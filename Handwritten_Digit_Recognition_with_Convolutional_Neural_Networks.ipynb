{
  "nbformat": 4,
  "nbformat_minor": 0,
  "metadata": {
    "colab": {
      "provenance": []
    },
    "kernelspec": {
      "name": "python3",
      "display_name": "Python 3"
    },
    "language_info": {
      "name": "python"
    }
  },
  "cells": [
    {
      "cell_type": "code",
      "execution_count": 1,
      "metadata": {
        "colab": {
          "base_uri": "https://localhost:8080/"
        },
        "id": "ebXCOTwKuePd",
        "outputId": "c490df2c-548b-4e44-d322-913bf3539197"
      },
      "outputs": [
        {
          "output_type": "stream",
          "name": "stdout",
          "text": [
            "Downloading data from https://storage.googleapis.com/tensorflow/tf-keras-datasets/mnist.npz\n",
            "11490434/11490434 [==============================] - 0s 0us/step\n",
            "Epoch 1/5\n",
            "938/938 [==============================] - 59s 59ms/step - loss: 0.1728 - accuracy: 0.9480 - val_loss: 0.0519 - val_accuracy: 0.9830\n",
            "Epoch 2/5\n",
            "938/938 [==============================] - 50s 53ms/step - loss: 0.0506 - accuracy: 0.9848 - val_loss: 0.0376 - val_accuracy: 0.9883\n",
            "Epoch 3/5\n",
            "938/938 [==============================] - 50s 54ms/step - loss: 0.0358 - accuracy: 0.9888 - val_loss: 0.0310 - val_accuracy: 0.9897\n",
            "Epoch 4/5\n",
            "938/938 [==============================] - 51s 55ms/step - loss: 0.0288 - accuracy: 0.9910 - val_loss: 0.0270 - val_accuracy: 0.9917\n",
            "Epoch 5/5\n",
            "938/938 [==============================] - 49s 53ms/step - loss: 0.0225 - accuracy: 0.9927 - val_loss: 0.0321 - val_accuracy: 0.9901\n",
            "313/313 [==============================] - 3s 9ms/step - loss: 0.0321 - accuracy: 0.9901\n",
            "Test accuracy: 0.9901000261306763\n"
          ]
        }
      ],
      "source": [
        "import tensorflow as tf\n",
        "from tensorflow.keras import layers, models\n",
        "from tensorflow.keras.datasets import mnist\n",
        "from tensorflow.keras.utils import to_categorical\n",
        "\n",
        "# Load and preprocess the MNIST dataset\n",
        "(train_images, train_labels), (test_images, test_labels) = mnist.load_data()\n",
        "train_images = train_images.reshape((60000, 28, 28, 1)).astype('float32') / 255\n",
        "test_images = test_images.reshape((10000, 28, 28, 1)).astype('float32') / 255\n",
        "\n",
        "train_labels = to_categorical(train_labels)\n",
        "test_labels = to_categorical(test_labels)\n",
        "\n",
        "# Define the architecture of the neural network\n",
        "model = models.Sequential([\n",
        "    layers.Conv2D(32, (3, 3), activation='relu', input_shape=(28, 28, 1)),\n",
        "    layers.MaxPooling2D((2, 2)),\n",
        "    layers.Conv2D(64, (3, 3), activation='relu'),\n",
        "    layers.MaxPooling2D((2, 2)),\n",
        "    layers.Conv2D(64, (3, 3), activation='relu'),\n",
        "    layers.Flatten(),\n",
        "    layers.Dense(64, activation='relu'),\n",
        "    layers.Dense(10, activation='softmax')\n",
        "])\n",
        "\n",
        "# Compile the model\n",
        "model.compile(optimizer='adam',\n",
        "              loss='categorical_crossentropy',\n",
        "              metrics=['accuracy'])\n",
        "\n",
        "# Train the model\n",
        "model.fit(train_images, train_labels, epochs=5, batch_size=64, validation_data=(test_images, test_labels))\n",
        "\n",
        "# Evaluate the model\n",
        "test_loss, test_acc = model.evaluate(test_images, test_labels)\n",
        "print('Test accuracy:', test_acc)\n"
      ]
    },
    {
      "cell_type": "code",
      "source": [],
      "metadata": {
        "id": "9_XmF0OFw9eL"
      },
      "execution_count": null,
      "outputs": []
    },
    {
      "cell_type": "code",
      "source": [
        "import numpy as np\n",
        "import matplotlib.pyplot as plt\n",
        "\n",
        "# Choose an image from the test set\n",
        "image_index = 2  # Change this to any index you want to test\n",
        "test_image = test_images[image_index]\n",
        "true_label = np.argmax(test_labels[image_index])\n",
        "\n",
        "# Reshape the image to match the input shape of the model\n",
        "test_image = np.expand_dims(test_image, axis=0)\n",
        "\n",
        "# Predict the label of the image\n",
        "predictions = model.predict(test_image)\n",
        "predicted_label = np.argmax(predictions)\n",
        "\n",
        "# Display the original image and its true label\n",
        "plt.imshow(test_images[image_index].reshape(28, 28), cmap='gray')\n",
        "plt.title(f\"True Label: {true_label}\")\n",
        "plt.axis('off')\n",
        "plt.show()\n",
        "\n",
        "# Print the predicted label\n",
        "print(f\"Predicted Label: {predicted_label}\")\n"
      ],
      "metadata": {
        "colab": {
          "base_uri": "https://localhost:8080/",
          "height": 463
        },
        "id": "VzF_21G4xVPa",
        "outputId": "4aa6651f-fb77-4898-eacf-867488c18e03"
      },
      "execution_count": 5,
      "outputs": [
        {
          "output_type": "stream",
          "name": "stdout",
          "text": [
            "1/1 [==============================] - 0s 23ms/step\n"
          ]
        },
        {
          "output_type": "display_data",
          "data": {
            "text/plain": [
              "<Figure size 640x480 with 1 Axes>"
            ],
            "image/png": "[encoded data removed]"
          },
          "metadata": {}
        },
        {
          "output_type": "stream",
          "name": "stdout",
          "text": [
            "Predicted Label: 1\n"
          ]
        }
      ]
    }
  ]
}